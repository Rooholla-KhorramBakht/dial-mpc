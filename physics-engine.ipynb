{
 "cells": [
  {
   "cell_type": "code",
   "execution_count": 25,
   "metadata": {},
   "outputs": [],
   "source": [
    "import os\n",
    "import yaml\n",
    "import jax\n",
    "from jax import numpy as jnp\n",
    "from jax_cosmo.scipy.interpolate import InterpolatedUnivariateSpline\n",
    "import functools\n",
    "from dial_mpc.utils.io_utils import load_dataclass_from_dict\n",
    "from dial_mpc.core.dial_config import DialConfig\n",
    "from dial_mpc.envs.unitree_go2_env import UnitreeGo2EnvConfig, UnitreeGo2Env"
   ]
  },
  {
   "cell_type": "code",
   "execution_count": 26,
   "metadata": {},
   "outputs": [],
   "source": [
    "# Tell XLA to use Triton GEMM, this improves steps/sec by ~30% on some GPUs\n",
    "xla_flags = os.environ.get(\"XLA_FLAGS\", \"\")\n",
    "xla_flags += \" --xla_gpu_triton_gemm_any=True\"\n",
    "os.environ[\"XLA_FLAGS\"] = xla_flags\n"
   ]
  },
  {
   "cell_type": "code",
   "execution_count": 27,
   "metadata": {},
   "outputs": [],
   "source": [
    "def rollout_us(step_env, state, us):\n",
    "    def step(state, u):\n",
    "        state = step_env(state, u)\n",
    "        return state, (state.reward, state.pipeline_state)\n",
    "\n",
    "    _, (rews, pipline_states) = jax.lax.scan(step, state, us)\n",
    "    return rews, pipline_states\n",
    "\n",
    "class XLAEngine:\n",
    "    def __init__(self, \n",
    "                 env,\n",
    "                 ctrl_dt=0.02,\n",
    "                 Hsample=15,\n",
    "                 Hnode=5,\n",
    "                 ):\n",
    "        self.env = env\n",
    "        self.nu = env.action_size\n",
    "\n",
    "        # node to u\n",
    "        self.ctrl_dt = ctrl_dt\n",
    "        self.step_us = jnp.linspace(0, self.ctrl_dt * Hsample, Hsample)\n",
    "        self.step_nodes = jnp.linspace(0, self.ctrl_dt * Hsample, Hnode)\n",
    "        self.node_dt = self.ctrl_dt * (Hsample) / (Hnode)\n",
    "\n",
    "        # setup function\n",
    "        self.rollout_us = jax.jit(functools.partial(rollout_us, self.env.step))\n",
    "        self.rollout_us_vmap = jax.jit(jax.vmap(self.rollout_us, in_axes=(None, 0)))\n",
    "        self.node2u_vmap = jax.jit(\n",
    "            jax.vmap(self.node2u, in_axes=(1), out_axes=(1))\n",
    "        )  # process (horizon, node)\n",
    "        self.u2node_vmap = jax.jit(jax.vmap(self.u2node, in_axes=(1), out_axes=(1)))\n",
    "        self.node2u_vvmap = jax.jit(\n",
    "            jax.vmap(self.node2u_vmap, in_axes=(0))\n",
    "        )  # process (batch, horizon, node)\n",
    "        self.u2node_vvmap = jax.jit(jax.vmap(self.u2node_vmap, in_axes=(0)))\n",
    "\n",
    "    @functools.partial(jax.jit, static_argnums=(0,))\n",
    "    def node2u(self, nodes):\n",
    "        spline = InterpolatedUnivariateSpline(self.step_nodes, nodes, k=2)\n",
    "        us = spline(self.step_us)\n",
    "        return us\n",
    "\n",
    "    @functools.partial(jax.jit, static_argnums=(0,))\n",
    "    def u2node(self, us):\n",
    "        spline = InterpolatedUnivariateSpline(self.step_us, us, k=2)\n",
    "        nodes = spline(self.step_nodes)\n",
    "        return nodes\n",
    "\n",
    "    @functools.partial(jax.jit, static_argnums=(0,))\n",
    "    def rollout(self, state, Y0s):\n",
    "        # convert Y0s to us\n",
    "        us = self.node2u_vvmap(Y0s)\n",
    "        # esitimate mu_0tm1\n",
    "        rewss, pipeline_statess = self.rollout_us_vmap(state, us)\n",
    "        qss = pipeline_statess.q\n",
    "        qdss = pipeline_statess.qd\n",
    "        xss = pipeline_statess.x.pos\n",
    "        info = {\n",
    "            \"qss\": qss,\n",
    "            \"qdss\": qdss,\n",
    "            \"xss\": xss,\n",
    "            \"rewss\": rewss,\n",
    "        }\n",
    "        return info\n"
   ]
  },
  {
   "cell_type": "code",
   "execution_count": 28,
   "metadata": {},
   "outputs": [],
   "source": [
    "\n",
    "example_cfg_path = '/home/go2-laptop/dial-mpc/dial_mpc/examples/unitree_go2_trot.yaml'\n",
    "config_dict = yaml.safe_load(open(example_cfg_path))\n",
    "dial_config = load_dataclass_from_dict(DialConfig, config_dict)"
   ]
  },
  {
   "cell_type": "code",
   "execution_count": 30,
   "metadata": {},
   "outputs": [
    {
     "data": {
      "text/plain": [
       "{'seed': 0,\n",
       " 'output_dir': 'unitree_go2_trot',\n",
       " 'n_steps': 400,\n",
       " 'env_name': 'unitree_go2_walk',\n",
       " 'Nsample': 2048,\n",
       " 'Hsample': 16,\n",
       " 'Hnode': 4,\n",
       " 'Ndiffuse': 2,\n",
       " 'Ndiffuse_init': 10,\n",
       " 'temp_sample': 0.05,\n",
       " 'horizon_diffuse_factor': 0.9,\n",
       " 'traj_diffuse_factor': 0.5,\n",
       " 'update_method': 'mppi',\n",
       " 'dt': 0.02,\n",
       " 'timestep': 0.02,\n",
       " 'leg_control': 'torque',\n",
       " 'action_scale': 1.0,\n",
       " 'default_vx': 0.8,\n",
       " 'default_vy': 0.0,\n",
       " 'default_vyaw': 0.0,\n",
       " 'ramp_up_time': 1.0,\n",
       " 'gait': 'trot'}"
      ]
     },
     "execution_count": 30,
     "metadata": {},
     "output_type": "execute_result"
    }
   ],
   "source": [
    "config_dict"
   ]
  },
  {
   "cell_type": "code",
   "execution_count": 31,
   "metadata": {},
   "outputs": [],
   "source": [
    "rng = jax.random.PRNGKey(seed=dial_config.seed)\n",
    "env_config = load_dataclass_from_dict(UnitreeGo2EnvConfig, config_dict, convert_list_to_array=True)\n",
    "env = UnitreeGo2Env(env_config)\n",
    "reset_env = jax.jit(env.reset)\n",
    "step_env = jax.jit(env.step)"
   ]
  },
  {
   "cell_type": "code",
   "execution_count": 32,
   "metadata": {},
   "outputs": [],
   "source": [
    "mbdpi = XLAEngine(env)\n",
    "rng, rng_reset = jax.random.split(rng)\n",
    "state_init = reset_env(rng_reset)"
   ]
  },
  {
   "cell_type": "code",
   "execution_count": 33,
   "metadata": {},
   "outputs": [],
   "source": [
    "Ys = jnp.zeros((2048,5,12))\n",
    "info = mbdpi.rollout(state_init, Ys)"
   ]
  },
  {
   "cell_type": "code",
   "execution_count": 34,
   "metadata": {},
   "outputs": [
    {
     "data": {
      "text/plain": [
       "Array([[-3.8305271e-04, -1.0669973e-07,  2.6867348e-01],\n",
       "       [-1.1256181e-03, -3.4669438e-07,  2.6583236e-01],\n",
       "       [-2.7895288e-03, -7.7797552e-07,  2.6300976e-01],\n",
       "       [-5.4255854e-03, -1.0492379e-06,  2.6037541e-01],\n",
       "       [-8.9999186e-03, -1.0691543e-06,  2.5798476e-01],\n",
       "       [-1.3402898e-02, -9.0620722e-07,  2.5578323e-01],\n",
       "       [-1.8490788e-02, -6.8422798e-07,  2.5366411e-01],\n",
       "       [-2.4124030e-02, -4.9753572e-07,  2.5152180e-01],\n",
       "       [-3.0190257e-02, -3.9491371e-07,  2.4927591e-01],\n",
       "       [-3.6611184e-02, -3.8397195e-07,  2.4687603e-01],\n",
       "       [-4.3337241e-02, -4.4588114e-07,  2.4429187e-01],\n",
       "       [-5.0336055e-02, -5.5281714e-07,  2.4150051e-01],\n",
       "       [-5.7580158e-02, -6.7653775e-07,  2.3847647e-01],\n",
       "       [-6.5037802e-02, -7.9567832e-07,  2.3518856e-01],\n",
       "       [-7.2668836e-02, -8.9602412e-07,  2.3160297e-01]], dtype=float32)"
      ]
     },
     "execution_count": 34,
     "metadata": {},
     "output_type": "execute_result"
    }
   ],
   "source": [
    "info['qss'][0,:,:3]"
   ]
  },
  {
   "cell_type": "code",
   "execution_count": 35,
   "metadata": {},
   "outputs": [
    {
     "data": {
      "text/plain": [
       "Array([0.  , 0.  , 0.27], dtype=float32)"
      ]
     },
     "execution_count": 35,
     "metadata": {},
     "output_type": "execute_result"
    }
   ],
   "source": [
    "state_init.pipeline_state.qpos[:3]"
   ]
  }
 ],
 "metadata": {
  "kernelspec": {
   "display_name": "dial-mpc",
   "language": "python",
   "name": "python3"
  },
  "language_info": {
   "codemirror_mode": {
    "name": "ipython",
    "version": 3
   },
   "file_extension": ".py",
   "mimetype": "text/x-python",
   "name": "python",
   "nbconvert_exporter": "python",
   "pygments_lexer": "ipython3",
   "version": "3.10.0"
  }
 },
 "nbformat": 4,
 "nbformat_minor": 2
}
